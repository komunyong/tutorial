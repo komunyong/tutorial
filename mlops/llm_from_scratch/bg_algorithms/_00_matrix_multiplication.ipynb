{
 "cells": [
  {
   "cell_type": "markdown",
   "metadata": {},
   "source": [
    "## Matrix Multiplication\n",
    "\n",
    "https://math.stackexchange.com/questions/31725/intuition-behind-matrix-multiplication#:~:text=The%20short%20answer%20is%20that,transformations%20(or%20linear%20maps).\n",
    "https://charchithowitzer.medium.com/matrix-multiplication-why-is-it-a-big-deal-cc8ef7490008\n"
   ]
  }
 ],
 "metadata": {
  "language_info": {
   "name": "python"
  }
 },
 "nbformat": 4,
 "nbformat_minor": 2
}
